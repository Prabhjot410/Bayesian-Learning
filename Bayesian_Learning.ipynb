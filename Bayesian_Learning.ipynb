{
  "nbformat": 4,
  "nbformat_minor": 0,
  "metadata": {
    "colab": {
      "provenance": [],
      "authorship_tag": "ABX9TyOihCihjEzz+ZLhLxV0Xh2H",
      "include_colab_link": true
    },
    "kernelspec": {
      "name": "python3",
      "display_name": "Python 3"
    },
    "language_info": {
      "name": "python"
    }
  },
  "cells": [
    {
      "cell_type": "markdown",
      "metadata": {
        "id": "view-in-github",
        "colab_type": "text"
      },
      "source": [
        "<a href=\"https://colab.research.google.com/github/Prabhjot410/Bayesian-Learning/blob/main/Bayesian_Learning.ipynb\" target=\"_parent\"><img src=\"https://colab.research.google.com/assets/colab-badge.svg\" alt=\"Open In Colab\"/></a>"
      ]
    },
    {
      "cell_type": "markdown",
      "source": [
        "Que 1: Suppose Manchester United were about to play Arsenal in the Premiership and you assess the probability of\n",
        "Manchester United winning to be 0.7. You also feel that if they did win, there is a probability of 0.9 that\n",
        "your local pub will be packed with fans celebrating their club’s victory. Alternatively, if they loose, you\n",
        "believe that there is still a probability of 0.6 that the pub will be packed with fans albeit for drowning their\n",
        "sorrows. As someone not interested in football, you enjoy a quiet day at work and on the way home, notice\n",
        "a big crowd in the pub. Can you assume that Manchster United won the game? If so, what is the probability\n",
        "of them having won the game?\n"
      ],
      "metadata": {
        "id": "dZtnK5xYSzsG"
      }
    },
    {
      "cell_type": "code",
      "execution_count": 3,
      "metadata": {
        "colab": {
          "base_uri": "https://localhost:8080/"
        },
        "id": "dP3qzlpibbDH",
        "outputId": "f5c9637b-2a55-4c61-e78e-ae993f50bfcb"
      },
      "outputs": [
        {
          "output_type": "stream",
          "name": "stdout",
          "text": [
            "P(A|B) = 77.778%\n"
          ]
        }
      ],
      "source": [
        "# calculate P(A|B) given P(A), P(B|A), P(B|not A)\n",
        "def bayes_theorem(p_a, p_b_given_a, p_b_given_not_a):\n",
        "\t# calculate P(not A)\n",
        "\tnot_a = 1 - p_a\n",
        "\t# calculate P(B)\n",
        "\tp_b = p_b_given_a * p_a + p_b_given_not_a * not_a\n",
        "\t# calculate P(A|B)\n",
        "\tp_a_given_b = (p_b_given_a * p_a) / p_b\n",
        "\treturn p_a_given_b\n",
        " \n",
        "# P(A)\n",
        "p_a = 0.7\n",
        "# P(B|A)\n",
        "p_b_given_a = 0.9\n",
        "# P(B|not A)\n",
        "p_b_given_not_a = 0.6\n",
        "# calculate P(A|B)\n",
        "result = bayes_theorem(p_a, p_b_given_a, p_b_given_not_a)\n",
        "# summarize\n",
        "print('P(A|B) = %.3f%%' % (result * 100))"
      ]
    },
    {
      "cell_type": "markdown",
      "source": [
        "ques 2: A forgetful nurse is supposed to give Mr. Smith a pill each day. The probability that she will forget to give\n",
        "the pill on a given day is 0.3. If he recieves the pill, the probability that he will die is 0.1. If he does not\n",
        "recieve the pill, the probability he will die is 0.8. Mr Smith dies today. Use Baye’s Rule to compute the\n",
        "probability that the nurse forgot to give him the pill."
      ],
      "metadata": {
        "id": "YOAhF4AhkM1n"
      }
    },
    {
      "cell_type": "code",
      "source": [
        "#The probability that she will forget to give the pill on a given day\n",
        "p_a = 0.3\n",
        "#prob he does not recieves the pill, the probability that he will die\n",
        "p_b_given_a = 0.8\n",
        "#he recieves the pill, the probability that he will die\n",
        "p_b_given_not_a = 0.1\n",
        "\n",
        "# calculate P(A|B)\n",
        "result = bayes_theorem(p_a, p_b_given_a, p_b_given_not_a)\n",
        "\n",
        "print('P(A|B) = %.3f%%' % (result * 100))\n",
        "\n"
      ],
      "metadata": {
        "colab": {
          "base_uri": "https://localhost:8080/"
        },
        "id": "zoLp4yy9iCQ7",
        "outputId": "4f4a9749-1509-4533-93b6-a49350e519ba"
      },
      "execution_count": 12,
      "outputs": [
        {
          "output_type": "stream",
          "name": "stdout",
          "text": [
            "P(A|B) = 77.419%\n"
          ]
        }
      ]
    },
    {
      "cell_type": "markdown",
      "source": [
        "Ques 3 : Based on statistics of gold mining in the area, the probability of gold being present in the grounds of the\n",
        "University of Warwick is 0.1, the probability of coal is 0.3 and the probability of neither is 0.6. If gold is\n",
        "present, a geological test will give a positive result with probability 0.8. If only coal is present, the test will\n",
        "give a positive result 0.4 and if neither is present the test will still give a positive result with a probability\n",
        "of 0.2. Given a positive result, what is the probability of Gold being found on campus? You may assume\n",
        "that the presence of one mineral makes it impossible for the other mineral to occur"
      ],
      "metadata": {
        "id": "TJLn846ImdjQ"
      }
    },
    {
      "cell_type": "code",
      "source": [
        "#probability of gold being present in the grounds\n",
        "prob_gold = 0.1\n",
        "#the probability of coal \n",
        "prob_coal = 0.3\n",
        "#the probability of neither\n",
        "prob_neither = 0.6\n",
        "#gold is present, a geological test will give a positive result with probability\n",
        "prob_positive_gold = 0.8\n",
        "#coal is present, the test will give a positive result\n",
        "prob_positive_coal = 0.4\n",
        "#neither is present, the test will give a positive result\n",
        "prob_positive_neither = 0.2\n",
        "\n",
        "#probality of gold given positive\n",
        "total = prob_gold*prob_positive_gold + prob_coal*prob_positive_coal + prob_neither*prob_positive_neither\n",
        "result = prob_gold*prob_positive_gold/total\n",
        "\n",
        "print('P(gold|+ve)= %.2f'%result)"
      ],
      "metadata": {
        "colab": {
          "base_uri": "https://localhost:8080/"
        },
        "id": "bC9JWmcomdL1",
        "outputId": "7867f9e2-4b4b-4ec9-ea0b-7680b9c8c727"
      },
      "execution_count": 19,
      "outputs": [
        {
          "output_type": "stream",
          "name": "stdout",
          "text": [
            "P(gold|+ve)= 0.25\n"
          ]
        }
      ]
    },
    {
      "cell_type": "markdown",
      "source": [
        "Ques 4: A screening test for Meningitis is known to provide a positive result 95% of the time when a patient with\n",
        "Meningitis is tested, while it gives a negative result for 70% of patients tested who are not suffering from\n",
        "the disease. National statistics suggest that 5% of the population get the disease.\n",
        "1. Given that a patient has tested positive, use Bayes Rule to decide whether the patient has Meningitis\n",
        "or not.\n",
        "2. If the doctor orders a second test that returns a negative result, how would this affect the probabilities\n",
        "associated with Meningitis and ¬Meningitis?"
      ],
      "metadata": {
        "id": "CTaL1K0043UP"
      }
    },
    {
      "cell_type": "code",
      "source": [
        "# P(A) :  population get the disease\n",
        "p_a = 0.05\n",
        "# P(B|A): \n",
        "p_b_given_a = 0.95\n",
        "# P(B|not A)\n",
        "p_not_b_given_a = 0.7\n",
        "p_b_given_not_a = 1 - p_not_b_given_a\n",
        "# calculate P(A|B)\n",
        "result = bayes_theorem(p_a, p_b_given_a, p_b_given_not_a)\n",
        "# summarize\n",
        "print(\"for 1st test\")\n",
        "print('P(A|B) = %.2f' % (result))\n",
        "if result< 0.5:\n",
        "  print(\"No Meningitis\")\n",
        "else:\n",
        "  print(\"Meningitis\")\n",
        "\n",
        "print(\"for 2nd test\")\n",
        "p_b_given_not_a = 0.7\n",
        "result = bayes_theorem(p_a, p_b_given_a, p_b_given_not_a)\n",
        "print('P(A|B) = %.2f' % (result))"
      ],
      "metadata": {
        "colab": {
          "base_uri": "https://localhost:8080/"
        },
        "id": "Is7LGK0NzLCf",
        "outputId": "4c2d8793-7b93-4b4e-975d-46654fb3c57f"
      },
      "execution_count": 31,
      "outputs": [
        {
          "output_type": "stream",
          "name": "stdout",
          "text": [
            "for 1st test\n",
            "P(A|B) = 0.14\n",
            "No Meningitis\n",
            "for 2nd test\n",
            "P(A|B) = 0.07\n"
          ]
        }
      ]
    },
    {
      "cell_type": "markdown",
      "source": [
        "Ques 5: The prior probability of it raining in the UK is 0.8. Mr. Jones, the new weather man at the BBC, has devised\n",
        "a new set of experiments that allow him to predict whether it will rain on the following day or not, given\n",
        "the current weather. The experiment is fairly accurate, returing a positive result 75% of the time when it\n",
        "actually rains the next day and only 15% of the time does it return a positive result when it doesn’t actually\n",
        "rain the next day.\n",
        "Given a negative result today, should Mr. Jones predict no rain for the following day? Show your calculations to support your answer"
      ],
      "metadata": {
        "id": "T-11JjAAA93x"
      }
    },
    {
      "cell_type": "code",
      "source": [],
      "metadata": {
        "id": "QZMquLAs5cMD"
      },
      "execution_count": null,
      "outputs": []
    }
  ]
}